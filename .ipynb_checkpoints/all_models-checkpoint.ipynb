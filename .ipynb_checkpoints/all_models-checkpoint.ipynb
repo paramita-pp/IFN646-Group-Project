{
 "cells": [
  {
   "cell_type": "markdown",
   "id": "d90dec87-329e-4fad-a61e-a96192d61957",
   "metadata": {},
   "source": [
    "# IFN646 All Models"
   ]
  },
  {
   "cell_type": "code",
   "execution_count": 1,
   "id": "1e9e1061-1ee7-41d8-937f-78ad3118c5df",
   "metadata": {},
   "outputs": [],
   "source": [
    "import pandas as pd\n",
    "import numpy as np\n",
    "import glob\n",
    "\n",
    "from io import StringIO\n",
    "\n",
    "from sklearn.model_selection import train_test_split\n",
    "from sklearn.metrics import classification_report, accuracy_score\n",
    "from sklearn.model_selection import GridSearchCV\n",
    "from sklearn.preprocessing import StandardScaler\n",
    "from sklearn.neural_network import MLPClassifier\n",
    "from sklearn.tree import export_graphviz\n",
    "from sklearn.metrics import plot_confusion_matrix\n",
    "\n",
    "\n",
    "import seaborn as sn\n",
    "import matplotlib\n",
    "import matplotlib.pyplot as plt\n",
    "%matplotlib inline"
   ]
  },
  {
   "cell_type": "code",
   "execution_count": 2,
   "id": "3033bd80-d158-4caa-ae22-9acf9aeb362b",
   "metadata": {},
   "outputs": [],
   "source": [
    "filenames = glob.glob('IFN646_project/' + \"*.csv\")\n",
    "\n",
    "dfs = []\n",
    "for filename in filenames:\n",
    "    dfs.append(pd.read_csv(filename))\n",
    "    \n",
    "sleepwake = pd.concat(dfs, ignore_index=True)"
   ]
  },
  {
   "cell_type": "code",
   "execution_count": 3,
   "id": "7c00d9db-7f19-4b1d-bf19-87668cd78e17",
   "metadata": {},
   "outputs": [
    {
     "name": "stdout",
     "output_type": "stream",
     "text": [
      "<class 'pandas.core.frame.DataFrame'>\n",
      "RangeIndex: 49312 entries, 0 to 49311\n",
      "Data columns (total 4 columns):\n",
      " #   Column                     Non-Null Count  Dtype  \n",
      "---  ------                     --------------  -----  \n",
      " 0   timestamp                  49312 non-null  object \n",
      " 1   Actiwatch activity counts  49100 non-null  float64\n",
      " 2   Actiware classification    48919 non-null  float64\n",
      " 3   Apple Watch ENMO           49278 non-null  float64\n",
      "dtypes: float64(3), object(1)\n",
      "memory usage: 1.5+ MB\n"
     ]
    }
   ],
   "source": [
    "sleepwake.info()"
   ]
  },
  {
   "cell_type": "code",
   "execution_count": 4,
   "id": "db884186-2dc6-47f7-b54e-bb405914a441",
   "metadata": {},
   "outputs": [
    {
     "data": {
      "text/html": [
       "<div>\n",
       "<style scoped>\n",
       "    .dataframe tbody tr th:only-of-type {\n",
       "        vertical-align: middle;\n",
       "    }\n",
       "\n",
       "    .dataframe tbody tr th {\n",
       "        vertical-align: top;\n",
       "    }\n",
       "\n",
       "    .dataframe thead th {\n",
       "        text-align: right;\n",
       "    }\n",
       "</style>\n",
       "<table border=\"1\" class=\"dataframe\">\n",
       "  <thead>\n",
       "    <tr style=\"text-align: right;\">\n",
       "      <th></th>\n",
       "      <th>timestamp</th>\n",
       "      <th>Actiwatch activity counts</th>\n",
       "      <th>Actiware classification</th>\n",
       "      <th>Apple Watch ENMO</th>\n",
       "    </tr>\n",
       "  </thead>\n",
       "  <tbody>\n",
       "    <tr>\n",
       "      <th>0</th>\n",
       "      <td>06/01/2000 22:11:00</td>\n",
       "      <td>NaN</td>\n",
       "      <td>NaN</td>\n",
       "      <td>0.047328</td>\n",
       "    </tr>\n",
       "    <tr>\n",
       "      <th>1</th>\n",
       "      <td>06/01/2000 22:11:15</td>\n",
       "      <td>91.0</td>\n",
       "      <td>NaN</td>\n",
       "      <td>0.049485</td>\n",
       "    </tr>\n",
       "    <tr>\n",
       "      <th>2</th>\n",
       "      <td>06/01/2000 22:11:30</td>\n",
       "      <td>62.0</td>\n",
       "      <td>NaN</td>\n",
       "      <td>0.047339</td>\n",
       "    </tr>\n",
       "    <tr>\n",
       "      <th>3</th>\n",
       "      <td>06/01/2000 22:11:45</td>\n",
       "      <td>58.0</td>\n",
       "      <td>NaN</td>\n",
       "      <td>0.069403</td>\n",
       "    </tr>\n",
       "    <tr>\n",
       "      <th>4</th>\n",
       "      <td>06/01/2000 22:12:00</td>\n",
       "      <td>154.0</td>\n",
       "      <td>NaN</td>\n",
       "      <td>1.066049</td>\n",
       "    </tr>\n",
       "  </tbody>\n",
       "</table>\n",
       "</div>"
      ],
      "text/plain": [
       "             timestamp  Actiwatch activity counts  Actiware classification  \\\n",
       "0  06/01/2000 22:11:00                        NaN                      NaN   \n",
       "1  06/01/2000 22:11:15                       91.0                      NaN   \n",
       "2  06/01/2000 22:11:30                       62.0                      NaN   \n",
       "3  06/01/2000 22:11:45                       58.0                      NaN   \n",
       "4  06/01/2000 22:12:00                      154.0                      NaN   \n",
       "\n",
       "   Apple Watch ENMO  \n",
       "0          0.047328  \n",
       "1          0.049485  \n",
       "2          0.047339  \n",
       "3          0.069403  \n",
       "4          1.066049  "
      ]
     },
     "execution_count": 4,
     "metadata": {},
     "output_type": "execute_result"
    }
   ],
   "source": [
    "sleepwake.head()"
   ]
  },
  {
   "cell_type": "code",
   "execution_count": 5,
   "id": "62095197-5dd7-4cc2-88ad-2ad64ba75b16",
   "metadata": {},
   "outputs": [],
   "source": [
    "#change timestamp data type\n",
    "sleepwake['timestamp'] = pd.to_datetime(sleepwake['timestamp'])"
   ]
  },
  {
   "cell_type": "code",
   "execution_count": 6,
   "id": "a1eef3ac-8c1b-4e21-a71c-510348ad23a3",
   "metadata": {},
   "outputs": [
    {
     "name": "stdout",
     "output_type": "stream",
     "text": [
      "<class 'pandas.core.frame.DataFrame'>\n",
      "RangeIndex: 49312 entries, 0 to 49311\n",
      "Data columns (total 4 columns):\n",
      " #   Column                     Non-Null Count  Dtype         \n",
      "---  ------                     --------------  -----         \n",
      " 0   timestamp                  49312 non-null  datetime64[ns]\n",
      " 1   Actiwatch activity counts  49100 non-null  float64       \n",
      " 2   Actiware classification    48919 non-null  float64       \n",
      " 3   Apple Watch ENMO           49278 non-null  float64       \n",
      "dtypes: datetime64[ns](1), float64(3)\n",
      "memory usage: 1.5 MB\n"
     ]
    }
   ],
   "source": [
    "sleepwake.info()"
   ]
  },
  {
   "cell_type": "code",
   "execution_count": 7,
   "id": "2610ed9f-1d3a-4436-9843-8c656ae5b984",
   "metadata": {},
   "outputs": [
    {
     "data": {
      "text/html": [
       "<div>\n",
       "<style scoped>\n",
       "    .dataframe tbody tr th:only-of-type {\n",
       "        vertical-align: middle;\n",
       "    }\n",
       "\n",
       "    .dataframe tbody tr th {\n",
       "        vertical-align: top;\n",
       "    }\n",
       "\n",
       "    .dataframe thead th {\n",
       "        text-align: right;\n",
       "    }\n",
       "</style>\n",
       "<table border=\"1\" class=\"dataframe\">\n",
       "  <thead>\n",
       "    <tr style=\"text-align: right;\">\n",
       "      <th></th>\n",
       "      <th>Actiwatch activity counts</th>\n",
       "      <th>Actiware classification</th>\n",
       "      <th>Apple Watch ENMO</th>\n",
       "    </tr>\n",
       "  </thead>\n",
       "  <tbody>\n",
       "    <tr>\n",
       "      <th>count</th>\n",
       "      <td>49100.000000</td>\n",
       "      <td>48919.000000</td>\n",
       "      <td>49278.000000</td>\n",
       "    </tr>\n",
       "    <tr>\n",
       "      <th>mean</th>\n",
       "      <td>4.110468</td>\n",
       "      <td>0.079642</td>\n",
       "      <td>0.006621</td>\n",
       "    </tr>\n",
       "    <tr>\n",
       "      <th>std</th>\n",
       "      <td>24.561319</td>\n",
       "      <td>0.270741</td>\n",
       "      <td>0.029242</td>\n",
       "    </tr>\n",
       "    <tr>\n",
       "      <th>min</th>\n",
       "      <td>0.000000</td>\n",
       "      <td>0.000000</td>\n",
       "      <td>0.000505</td>\n",
       "    </tr>\n",
       "    <tr>\n",
       "      <th>25%</th>\n",
       "      <td>0.000000</td>\n",
       "      <td>0.000000</td>\n",
       "      <td>0.001897</td>\n",
       "    </tr>\n",
       "    <tr>\n",
       "      <th>50%</th>\n",
       "      <td>0.000000</td>\n",
       "      <td>0.000000</td>\n",
       "      <td>0.003029</td>\n",
       "    </tr>\n",
       "    <tr>\n",
       "      <th>75%</th>\n",
       "      <td>0.000000</td>\n",
       "      <td>0.000000</td>\n",
       "      <td>0.004746</td>\n",
       "    </tr>\n",
       "    <tr>\n",
       "      <th>max</th>\n",
       "      <td>880.000000</td>\n",
       "      <td>1.000000</td>\n",
       "      <td>3.342039</td>\n",
       "    </tr>\n",
       "  </tbody>\n",
       "</table>\n",
       "</div>"
      ],
      "text/plain": [
       "       Actiwatch activity counts  Actiware classification  Apple Watch ENMO\n",
       "count               49100.000000             48919.000000      49278.000000\n",
       "mean                    4.110468                 0.079642          0.006621\n",
       "std                    24.561319                 0.270741          0.029242\n",
       "min                     0.000000                 0.000000          0.000505\n",
       "25%                     0.000000                 0.000000          0.001897\n",
       "50%                     0.000000                 0.000000          0.003029\n",
       "75%                     0.000000                 0.000000          0.004746\n",
       "max                   880.000000                 1.000000          3.342039"
      ]
     },
     "execution_count": 7,
     "metadata": {},
     "output_type": "execute_result"
    }
   ],
   "source": [
    "sleepwake.describe()"
   ]
  },
  {
   "cell_type": "code",
   "execution_count": 8,
   "id": "5fe3daff-208c-4f73-bb3f-751de434e7e1",
   "metadata": {},
   "outputs": [
    {
     "data": {
      "text/html": [
       "<div>\n",
       "<style scoped>\n",
       "    .dataframe tbody tr th:only-of-type {\n",
       "        vertical-align: middle;\n",
       "    }\n",
       "\n",
       "    .dataframe tbody tr th {\n",
       "        vertical-align: top;\n",
       "    }\n",
       "\n",
       "    .dataframe thead th {\n",
       "        text-align: right;\n",
       "    }\n",
       "</style>\n",
       "<table border=\"1\" class=\"dataframe\">\n",
       "  <thead>\n",
       "    <tr style=\"text-align: right;\">\n",
       "      <th></th>\n",
       "      <th>timestamp</th>\n",
       "      <th>actiwatch_counts</th>\n",
       "      <th>actiware_class</th>\n",
       "      <th>Apple_ENMO</th>\n",
       "    </tr>\n",
       "  </thead>\n",
       "  <tbody>\n",
       "    <tr>\n",
       "      <th>0</th>\n",
       "      <td>2000-06-01 22:11:00</td>\n",
       "      <td>NaN</td>\n",
       "      <td>NaN</td>\n",
       "      <td>0.047328</td>\n",
       "    </tr>\n",
       "    <tr>\n",
       "      <th>1</th>\n",
       "      <td>2000-06-01 22:11:15</td>\n",
       "      <td>91.0</td>\n",
       "      <td>NaN</td>\n",
       "      <td>0.049485</td>\n",
       "    </tr>\n",
       "    <tr>\n",
       "      <th>2</th>\n",
       "      <td>2000-06-01 22:11:30</td>\n",
       "      <td>62.0</td>\n",
       "      <td>NaN</td>\n",
       "      <td>0.047339</td>\n",
       "    </tr>\n",
       "    <tr>\n",
       "      <th>3</th>\n",
       "      <td>2000-06-01 22:11:45</td>\n",
       "      <td>58.0</td>\n",
       "      <td>NaN</td>\n",
       "      <td>0.069403</td>\n",
       "    </tr>\n",
       "    <tr>\n",
       "      <th>4</th>\n",
       "      <td>2000-06-01 22:12:00</td>\n",
       "      <td>154.0</td>\n",
       "      <td>NaN</td>\n",
       "      <td>1.066049</td>\n",
       "    </tr>\n",
       "  </tbody>\n",
       "</table>\n",
       "</div>"
      ],
      "text/plain": [
       "            timestamp  actiwatch_counts  actiware_class  Apple_ENMO\n",
       "0 2000-06-01 22:11:00               NaN             NaN    0.047328\n",
       "1 2000-06-01 22:11:15              91.0             NaN    0.049485\n",
       "2 2000-06-01 22:11:30              62.0             NaN    0.047339\n",
       "3 2000-06-01 22:11:45              58.0             NaN    0.069403\n",
       "4 2000-06-01 22:12:00             154.0             NaN    1.066049"
      ]
     },
     "execution_count": 8,
     "metadata": {},
     "output_type": "execute_result"
    }
   ],
   "source": [
    "# rename column name\n",
    "sleepwake.rename(columns = {'Actiwatch activity counts' : 'actiwatch_counts',\n",
    "                           'Actiware classification' : 'actiware_class',\n",
    "                           'Apple Watch ENMO' : 'Apple_ENMO'}, inplace = True)\n",
    "sleepwake.head()"
   ]
  },
  {
   "cell_type": "code",
   "execution_count": 9,
   "id": "b29acd25-620f-40fd-a049-606684b43023",
   "metadata": {},
   "outputs": [],
   "source": [
    "sleepwake = sleepwake[sleepwake['actiware_class'].notna()]\n",
    "sleepwake = sleepwake[sleepwake['actiwatch_counts'].notna()]\n",
    "sleepwake = sleepwake[sleepwake['Apple_ENMO'].notna()]"
   ]
  },
  {
   "cell_type": "code",
   "execution_count": 10,
   "id": "4e932ce5-d5f2-4a8a-ab5d-123881e8429c",
   "metadata": {},
   "outputs": [
    {
     "data": {
      "text/html": [
       "<div>\n",
       "<style scoped>\n",
       "    .dataframe tbody tr th:only-of-type {\n",
       "        vertical-align: middle;\n",
       "    }\n",
       "\n",
       "    .dataframe tbody tr th {\n",
       "        vertical-align: top;\n",
       "    }\n",
       "\n",
       "    .dataframe thead th {\n",
       "        text-align: right;\n",
       "    }\n",
       "</style>\n",
       "<table border=\"1\" class=\"dataframe\">\n",
       "  <thead>\n",
       "    <tr style=\"text-align: right;\">\n",
       "      <th></th>\n",
       "      <th>timestamp</th>\n",
       "      <th>actiwatch_counts</th>\n",
       "      <th>actiware_class</th>\n",
       "      <th>Apple_ENMO</th>\n",
       "    </tr>\n",
       "  </thead>\n",
       "  <tbody>\n",
       "    <tr>\n",
       "      <th>5</th>\n",
       "      <td>2000-06-01 22:12:15</td>\n",
       "      <td>164.0</td>\n",
       "      <td>1.0</td>\n",
       "      <td>0.503060</td>\n",
       "    </tr>\n",
       "    <tr>\n",
       "      <th>6</th>\n",
       "      <td>2000-06-01 22:12:30</td>\n",
       "      <td>159.0</td>\n",
       "      <td>1.0</td>\n",
       "      <td>0.117267</td>\n",
       "    </tr>\n",
       "    <tr>\n",
       "      <th>7</th>\n",
       "      <td>2000-06-01 22:12:45</td>\n",
       "      <td>94.0</td>\n",
       "      <td>1.0</td>\n",
       "      <td>0.075325</td>\n",
       "    </tr>\n",
       "    <tr>\n",
       "      <th>8</th>\n",
       "      <td>2000-06-01 22:13:00</td>\n",
       "      <td>0.0</td>\n",
       "      <td>1.0</td>\n",
       "      <td>0.003893</td>\n",
       "    </tr>\n",
       "    <tr>\n",
       "      <th>9</th>\n",
       "      <td>2000-06-01 22:13:15</td>\n",
       "      <td>6.0</td>\n",
       "      <td>1.0</td>\n",
       "      <td>0.006534</td>\n",
       "    </tr>\n",
       "  </tbody>\n",
       "</table>\n",
       "</div>"
      ],
      "text/plain": [
       "            timestamp  actiwatch_counts  actiware_class  Apple_ENMO\n",
       "5 2000-06-01 22:12:15             164.0             1.0    0.503060\n",
       "6 2000-06-01 22:12:30             159.0             1.0    0.117267\n",
       "7 2000-06-01 22:12:45              94.0             1.0    0.075325\n",
       "8 2000-06-01 22:13:00               0.0             1.0    0.003893\n",
       "9 2000-06-01 22:13:15               6.0             1.0    0.006534"
      ]
     },
     "execution_count": 10,
     "metadata": {},
     "output_type": "execute_result"
    }
   ],
   "source": [
    "sleepwake.head()"
   ]
  },
  {
   "cell_type": "code",
   "execution_count": 11,
   "id": "d4d2f0ec-9879-4cb6-81a9-0b168e23b786",
   "metadata": {},
   "outputs": [
    {
     "name": "stdout",
     "output_type": "stream",
     "text": [
      "<class 'pandas.core.frame.DataFrame'>\n",
      "Int64Index: 48909 entries, 5 to 49300\n",
      "Data columns (total 4 columns):\n",
      " #   Column            Non-Null Count  Dtype         \n",
      "---  ------            --------------  -----         \n",
      " 0   timestamp         48909 non-null  datetime64[ns]\n",
      " 1   actiwatch_counts  48909 non-null  float64       \n",
      " 2   actiware_class    48909 non-null  float64       \n",
      " 3   Apple_ENMO        48909 non-null  float64       \n",
      "dtypes: datetime64[ns](1), float64(3)\n",
      "memory usage: 1.9 MB\n"
     ]
    }
   ],
   "source": [
    "sleepwake.info()"
   ]
  },
  {
   "cell_type": "code",
   "execution_count": null,
   "id": "d8bcc5e7-11c9-44d5-b570-f76aad62cb29",
   "metadata": {},
   "outputs": [],
   "source": []
  },
  {
   "cell_type": "markdown",
   "id": "f01afa48-d7d6-4ebf-8df2-ec36cadf4347",
   "metadata": {},
   "source": [
    "## Exploratory Analysis"
   ]
  },
  {
   "cell_type": "code",
   "execution_count": 12,
   "id": "0f4eb217-a261-4ece-8377-e1c06a2b5751",
   "metadata": {},
   "outputs": [],
   "source": [
    "# output = actiware_class\n",
    "# input = actiwatch_counts / Apple_ENMO"
   ]
  },
  {
   "cell_type": "code",
   "execution_count": 13,
   "id": "bf1f12b0-b7aa-43f5-a777-cb81676af748",
   "metadata": {},
   "outputs": [
    {
     "data": {
      "text/plain": [
       "(0.0, 0.05)"
      ]
     },
     "execution_count": 13,
     "metadata": {},
     "output_type": "execute_result"
    },
    {
     "data": {
      "image/png": "[encoded data removed]",
      "text/plain": [
       "<Figure size 432x432 with 1 Axes>"
      ]
     },
     "metadata": {
      "needs_background": "light"
     },
     "output_type": "display_data"
    }
   ],
   "source": [
    "sn.catplot(x=\"actiware_class\", y=\"Apple_ENMO\", kind=\"box\", data=sleepwake\n",
    "          ,palette=\"GnBu_r\", height=6, aspect=9/9)\n",
    "plt.title(\"Actiware Classification by Apple ENMO\", fontsize=14)\n",
    "plt.xlabel(\"Actiware Classification\", fontsize=12)\n",
    "plt.ylabel(\"Apple ENMO\", fontsize=12) \n",
    "plt.ylim(0.0,0.05)"
   ]
  },
  {
   "cell_type": "code",
   "execution_count": 14,
   "id": "294f3a1c-2490-465c-b468-80c2eb820b45",
   "metadata": {},
   "outputs": [
    {
     "data": {
      "text/plain": [
       "(0.0, 70.0)"
      ]
     },
     "execution_count": 14,
     "metadata": {},
     "output_type": "execute_result"
    },
    {
     "data": {
      "image/png": "[encoded data removed]",
      "text/plain": [
       "<Figure size 432x432 with 1 Axes>"
      ]
     },
     "metadata": {
      "needs_background": "light"
     },
     "output_type": "display_data"
    }
   ],
   "source": [
    "sn.catplot(x=\"actiware_class\", y=\"actiwatch_counts\", kind=\"box\", data=sleepwake\n",
    "          ,palette=\"PuRd_r\", height=6, aspect=9/9)\n",
    "plt.title(\"Actiware Classification by Actiwatch Counts\", fontsize=14)\n",
    "plt.xlabel(\"Actiware Classification\", fontsize=12)\n",
    "plt.ylabel(\"Actiwatch Counts\", fontsize=12) \n",
    "plt.ylim(0.0,70)"
   ]
  },
  {
   "cell_type": "markdown",
   "id": "80bf69a1-e7a5-4134-b5db-739bdc2aa653",
   "metadata": {},
   "source": [
    "### Train Test Split"
   ]
  },
  {
   "cell_type": "code",
   "execution_count": 15,
   "id": "2284dcb7-c0c0-40af-9fad-29ff17becdbd",
   "metadata": {},
   "outputs": [],
   "source": [
    "x = sleepwake[['actiwatch_counts', 'Apple_ENMO']]\n",
    "y = sleepwake['actiware_class']"
   ]
  },
  {
   "cell_type": "code",
   "execution_count": 16,
   "id": "68bea08c-2919-458f-af4f-0033f947eac5",
   "metadata": {},
   "outputs": [],
   "source": [
    "from sklearn.model_selection import train_test_split\n",
    "\n",
    "x_train, x_test, y_train, y_test = train_test_split(x,y,test_size = 0.3, random_state=10)"
   ]
  },
  {
   "cell_type": "markdown",
   "id": "5cad2930-0cb4-415c-8c96-78665023f147",
   "metadata": {},
   "source": [
    "### Random Forest"
   ]
  },
  {
   "cell_type": "code",
   "execution_count": 17,
   "id": "fbda3841-835a-44d1-88a3-a1813695ed2a",
   "metadata": {},
   "outputs": [],
   "source": [
    "from sklearn.ensemble import RandomForestClassifier\n",
    "randomforest = RandomForestClassifier(n_estimators = 100)\n",
    "randomforest_model = randomforest.fit(x_train[['Apple_ENMO']], y_train)\n",
    "y_predicted_r = randomforest.predict(x_test[['Apple_ENMO']])\n",
    "\n",
    "randomforest_ac = RandomForestClassifier(n_estimators = 100)\n",
    "randomforest_model_ac = randomforest_ac.fit(x_train[['actiwatch_counts']], y_train)\n",
    "y_predicted_r_ac = randomforest_ac.predict(x_test[['actiwatch_counts']])"
   ]
  },
  {
   "cell_type": "code",
   "execution_count": 18,
   "id": "8aa60658-528e-406d-ad92-eddd58029d83",
   "metadata": {},
   "outputs": [
    {
     "name": "stdout",
     "output_type": "stream",
     "text": [
      "Train accuracy: 0.982211706975114\n"
     ]
    }
   ],
   "source": [
    "print(\"Train accuracy:\", randomforest.score(x_train[['Apple_ENMO']], y_train))"
   ]
  },
  {
   "cell_type": "code",
   "execution_count": 19,
   "id": "c811ff61-8713-4489-8a6b-80d170bdb912",
   "metadata": {},
   "outputs": [
    {
     "name": "stdout",
     "output_type": "stream",
     "text": [
      "Test accuracy: 0.9424793839024058\n"
     ]
    }
   ],
   "source": [
    "print(\"Test accuracy:\", randomforest.score(x_test[['Apple_ENMO']], y_test))"
   ]
  },
  {
   "cell_type": "code",
   "execution_count": 20,
   "id": "80441421-d4f5-459e-a2fa-1ebb4e10f30a",
   "metadata": {},
   "outputs": [
    {
     "name": "stdout",
     "output_type": "stream",
     "text": [
      "Train accuracy: 0.9740039724266853\n"
     ]
    }
   ],
   "source": [
    "print(\"Train accuracy:\", randomforest_ac.score(x_train[['actiwatch_counts']], y_train))"
   ]
  },
  {
   "cell_type": "code",
   "execution_count": 21,
   "id": "9624c978-b065-4f53-bcb5-e66c43b62cde",
   "metadata": {},
   "outputs": [
    {
     "name": "stdout",
     "output_type": "stream",
     "text": [
      "Test accuracy: 0.9750562257207115\n"
     ]
    }
   ],
   "source": [
    "print(\"Test accuracy:\", randomforest_ac.score(x_test[['actiwatch_counts']], y_test))"
   ]
  },
  {
   "cell_type": "code",
   "execution_count": 22,
   "id": "19cc1674-cbbd-4e7a-a6a4-5a52b74598e6",
   "metadata": {},
   "outputs": [
    {
     "data": {
      "text/plain": [
       "0.9620576071435398"
      ]
     },
     "execution_count": 22,
     "metadata": {},
     "output_type": "execute_result"
    }
   ],
   "source": [
    "# k-fold cross validation to evaluate the performance of the model\n",
    "from sklearn.model_selection import cross_val_score\n",
    "accuracy = cross_val_score(estimator = randomforest, X = x_train, y = y_train, cv =10)\n",
    "accuracy.mean()"
   ]
  },
  {
   "cell_type": "code",
   "execution_count": 23,
   "id": "4e919903-f177-4a87-a211-54cba4dd8607",
   "metadata": {},
   "outputs": [
    {
     "data": {
      "text/plain": [
       "array([[13175,   363],\n",
       "       [  481,   654]])"
      ]
     },
     "execution_count": 23,
     "metadata": {},
     "output_type": "execute_result"
    }
   ],
   "source": [
    "from sklearn import metrics\n",
    "cnf_matrix = metrics.confusion_matrix(y_test, y_predicted_r)\n",
    "cnf_matrix"
   ]
  },
  {
   "cell_type": "code",
   "execution_count": 24,
   "id": "cd97a6f2-eac1-47f4-88c7-db5896bde06a",
   "metadata": {},
   "outputs": [
    {
     "data": {
      "text/plain": [
       "array([[13513,    25],\n",
       "       [  341,   794]])"
      ]
     },
     "execution_count": 24,
     "metadata": {},
     "output_type": "execute_result"
    }
   ],
   "source": [
    "cnf_matrix_ac = metrics.confusion_matrix(y_test, y_predicted_r_ac)\n",
    "cnf_matrix_ac"
   ]
  },
  {
   "cell_type": "code",
   "execution_count": 25,
   "id": "9aa5f6d7-886a-4550-a104-70c41ef1f296",
   "metadata": {},
   "outputs": [],
   "source": [
    "from sklearn.metrics import plot_confusion_matrix"
   ]
  },
  {
   "cell_type": "code",
   "execution_count": 26,
   "id": "6613f8ab-1c52-40c8-a7d1-b509500cd011",
   "metadata": {},
   "outputs": [],
   "source": [
    "def eval_model(model, x_train, y_train, x_test, y_test):\n",
    "    fig = plt.figure(figsize=[25, 8])\n",
    "    ax = fig.add_subplot(1, 2, 1)\n",
    "    conf = plot_confusion_matrix(model, x_train, y_train, normalize=None, xticks_rotation='vertical', ax=ax)\n",
    "    pred = model.predict(x_train)\n",
    "    conf.ax_.set_title('Training Set Performance: ' + str(sum(pred == y_train)/len(y_train)));\n",
    "    ax = fig.add_subplot(1, 2, 2)\n",
    "    conf = plot_confusion_matrix(model, x_test, y_test, normalize=None, xticks_rotation='vertical', ax=ax)\n",
    "    pred = model.predict(x_test)\n",
    "    conf.ax_.set_title('Testing Set Performance: ' + str(sum(pred == y_test)/len(y_test)));\n"
   ]
  },
  {
   "cell_type": "code",
   "execution_count": 27,
   "id": "4c94c7ba-12a3-480f-950a-5076797a8a2f",
   "metadata": {},
   "outputs": [
    {
     "data": {
      "image/png": "[encoded data removed]",
      "text/plain": [
       "<Figure size 1800x576 with 4 Axes>"
      ]
     },
     "metadata": {
      "needs_background": "light"
     },
     "output_type": "display_data"
    }
   ],
   "source": [
    "eval_model(randomforest, x_train[['Apple_ENMO']], y_train, x_test[['Apple_ENMO']], y_test)"
   ]
  },
  {
   "cell_type": "code",
   "execution_count": 28,
   "id": "895ff6d4-3966-436a-a316-4c55063e8f2f",
   "metadata": {},
   "outputs": [
    {
     "data": {
      "image/png": "[encoded data removed]",
      "text/plain": [
       "<Figure size 1800x576 with 4 Axes>"
      ]
     },
     "metadata": {
      "needs_background": "light"
     },
     "output_type": "display_data"
    }
   ],
   "source": [
    "eval_model(randomforest_ac, x_train[['actiwatch_counts']], y_train,\n",
    "           x_test[['actiwatch_counts']], y_test)"
   ]
  },
  {
   "cell_type": "code",
   "execution_count": 29,
   "id": "ee91058e-386e-4094-8e7b-c89ee97dd886",
   "metadata": {},
   "outputs": [
    {
     "data": {
      "text/plain": [
       "Text(0.5, 1.0, 'DET Curve')"
      ]
     },
     "execution_count": 29,
     "metadata": {},
     "output_type": "execute_result"
    },
    {
     "data": {
      "image/png": "[encoded data removed]",
      "text/plain": [
       "<Figure size 1080x504 with 2 Axes>"
      ]
     },
     "metadata": {
      "needs_background": "light"
     },
     "output_type": "display_data"
    }
   ],
   "source": [
    "from sklearn.metrics import roc_curve, det_curve, roc_auc_score, auc\n",
    "\n",
    "scores = randomforest.predict_proba(x_test[['Apple_ENMO']])\n",
    "\n",
    "fig = plt.figure(figsize=[15, 7])\n",
    "fpr, tpr, thresholds = roc_curve(y_test, scores[:, 1])\n",
    "auc_score = roc_auc_score(y_test, scores[:, 1])\n",
    "ax = fig.add_subplot(1, 2, 1)\n",
    "ax.plot(fpr, tpr)\n",
    "ax.set_xlabel('False Positive Rate')\n",
    "ax.set_ylabel('True Positive Rate')\n",
    "ax.set_title('ROC Curve, AUC: ' + str(auc_score))\n",
    "\n",
    "fpr, fnr, thresholds = det_curve(y_test, scores[:, 1])\n",
    "ax = fig.add_subplot(1, 2, 2)\n",
    "ax.plot(fpr, fnr)\n",
    "ax.set_xlabel('False Positive Rate')\n",
    "ax.set_ylabel('False Negative Rate')\n",
    "ax.set_title('DET Curve')"
   ]
  },
  {
   "cell_type": "code",
   "execution_count": 30,
   "id": "9f17f324-0637-4e6a-b23a-057fc707b7f2",
   "metadata": {},
   "outputs": [
    {
     "name": "stdout",
     "output_type": "stream",
     "text": [
      "              precision    recall  f1-score   support\n",
      "\n",
      "         0.0       0.96      0.97      0.97     13538\n",
      "         1.0       0.64      0.58      0.61      1135\n",
      "\n",
      "    accuracy                           0.94     14673\n",
      "   macro avg       0.80      0.77      0.79     14673\n",
      "weighted avg       0.94      0.94      0.94     14673\n",
      "\n"
     ]
    }
   ],
   "source": [
    "from sklearn.metrics import precision_score, recall_score, f1_score, classification_report\n",
    "print(classification_report(y_test, randomforest.predict(x_test[['Apple_ENMO']])))"
   ]
  },
  {
   "cell_type": "code",
   "execution_count": 31,
   "id": "eebcca32-1d07-4beb-8e68-17e1bf9b9fd0",
   "metadata": {},
   "outputs": [
    {
     "name": "stdout",
     "output_type": "stream",
     "text": [
      "              precision    recall  f1-score   support\n",
      "\n",
      "         0.0       0.98      1.00      0.99     13538\n",
      "         1.0       0.97      0.70      0.81      1135\n",
      "\n",
      "    accuracy                           0.98     14673\n",
      "   macro avg       0.97      0.85      0.90     14673\n",
      "weighted avg       0.97      0.98      0.97     14673\n",
      "\n"
     ]
    }
   ],
   "source": [
    "print(classification_report(y_test, randomforest_ac.predict(x_test[['actiwatch_counts']])))"
   ]
  },
  {
   "cell_type": "code",
   "execution_count": 32,
   "id": "cb98efbf-42ee-49be-a076-06e9bd4df695",
   "metadata": {},
   "outputs": [
    {
     "name": "stdout",
     "output_type": "stream",
     "text": [
      "0.9403261011273383\n"
     ]
    }
   ],
   "source": [
    "from sklearn.model_selection import cross_val_score\n",
    "print(np.mean(cross_val_score(randomforest, x_train[['Apple_ENMO']], y_train, cv=10)))"
   ]
  },
  {
   "cell_type": "code",
   "execution_count": 33,
   "id": "1db6068a-8501-41c7-ac13-0f3fad274c57",
   "metadata": {},
   "outputs": [
    {
     "name": "stdout",
     "output_type": "stream",
     "text": [
      "0.9737996862210283\n"
     ]
    }
   ],
   "source": [
    "print(np.mean(cross_val_score(randomforest_ac, x_train[['actiwatch_counts']], y_train, cv=10)))"
   ]
  },
  {
   "cell_type": "markdown",
   "id": "38d62d22-fdf7-4081-a824-9082374db22a",
   "metadata": {},
   "source": [
    "# Logistic Regression"
   ]
  },
  {
   "cell_type": "code",
   "execution_count": 34,
   "id": "7d86f6b3-2221-48af-8c40-1c6eea954bec",
   "metadata": {},
   "outputs": [
    {
     "data": {
      "text/html": [
       "<div>\n",
       "<style scoped>\n",
       "    .dataframe tbody tr th:only-of-type {\n",
       "        vertical-align: middle;\n",
       "    }\n",
       "\n",
       "    .dataframe tbody tr th {\n",
       "        vertical-align: top;\n",
       "    }\n",
       "\n",
       "    .dataframe thead th {\n",
       "        text-align: right;\n",
       "    }\n",
       "</style>\n",
       "<table border=\"1\" class=\"dataframe\">\n",
       "  <thead>\n",
       "    <tr style=\"text-align: right;\">\n",
       "      <th></th>\n",
       "      <th>actiwatch_counts</th>\n",
       "      <th>Apple_ENMO</th>\n",
       "    </tr>\n",
       "  </thead>\n",
       "  <tbody>\n",
       "    <tr>\n",
       "      <th>13033</th>\n",
       "      <td>0.0</td>\n",
       "      <td>0.001437</td>\n",
       "    </tr>\n",
       "    <tr>\n",
       "      <th>8364</th>\n",
       "      <td>0.0</td>\n",
       "      <td>0.004419</td>\n",
       "    </tr>\n",
       "    <tr>\n",
       "      <th>45978</th>\n",
       "      <td>0.0</td>\n",
       "      <td>0.003594</td>\n",
       "    </tr>\n",
       "    <tr>\n",
       "      <th>4183</th>\n",
       "      <td>0.0</td>\n",
       "      <td>0.003921</td>\n",
       "    </tr>\n",
       "    <tr>\n",
       "      <th>44483</th>\n",
       "      <td>0.0</td>\n",
       "      <td>0.002433</td>\n",
       "    </tr>\n",
       "    <tr>\n",
       "      <th>...</th>\n",
       "      <td>...</td>\n",
       "      <td>...</td>\n",
       "    </tr>\n",
       "    <tr>\n",
       "      <th>40387</th>\n",
       "      <td>0.0</td>\n",
       "      <td>0.007883</td>\n",
       "    </tr>\n",
       "    <tr>\n",
       "      <th>28243</th>\n",
       "      <td>0.0</td>\n",
       "      <td>0.001510</td>\n",
       "    </tr>\n",
       "    <tr>\n",
       "      <th>29438</th>\n",
       "      <td>0.0</td>\n",
       "      <td>0.001973</td>\n",
       "    </tr>\n",
       "    <tr>\n",
       "      <th>40389</th>\n",
       "      <td>0.0</td>\n",
       "      <td>0.007658</td>\n",
       "    </tr>\n",
       "    <tr>\n",
       "      <th>17812</th>\n",
       "      <td>0.0</td>\n",
       "      <td>0.002313</td>\n",
       "    </tr>\n",
       "  </tbody>\n",
       "</table>\n",
       "<p>34236 rows × 2 columns</p>\n",
       "</div>"
      ],
      "text/plain": [
       "       actiwatch_counts  Apple_ENMO\n",
       "13033               0.0    0.001437\n",
       "8364                0.0    0.004419\n",
       "45978               0.0    0.003594\n",
       "4183                0.0    0.003921\n",
       "44483               0.0    0.002433\n",
       "...                 ...         ...\n",
       "40387               0.0    0.007883\n",
       "28243               0.0    0.001510\n",
       "29438               0.0    0.001973\n",
       "40389               0.0    0.007658\n",
       "17812               0.0    0.002313\n",
       "\n",
       "[34236 rows x 2 columns]"
      ]
     },
     "execution_count": 34,
     "metadata": {},
     "output_type": "execute_result"
    }
   ],
   "source": [
    "x_train"
   ]
  },
  {
   "cell_type": "code",
   "execution_count": 35,
   "id": "f5c3616e-6adf-4115-9496-f209935adb61",
   "metadata": {},
   "outputs": [],
   "source": [
    "from sklearn.linear_model import LogisticRegression\n",
    "\n",
    "logreg = LogisticRegression()\n",
    "logreg.fit(x_train[['Apple_ENMO']], y_train)\n",
    "y_pred = logreg.predict(x_test[['Apple_ENMO']])\n",
    "\n",
    "logreg_2 = LogisticRegression()\n",
    "logreg_2.fit(x_train[['actiwatch_counts']], y_train)\n",
    "y_pred_2 = logreg.predict(x_test[['actiwatch_counts']])\n"
   ]
  },
  {
   "cell_type": "code",
   "execution_count": 36,
   "id": "d6ea634d-9d49-4a72-a035-b1dc2d39509b",
   "metadata": {},
   "outputs": [
    {
     "name": "stdout",
     "output_type": "stream",
     "text": [
      "Confusion Matrix for Apple Watch ENMO\n",
      "[[13538     0]\n",
      " [  987   148]]\n"
     ]
    }
   ],
   "source": [
    "from sklearn import metrics\n",
    "cnf_matrix = metrics.confusion_matrix(y_test, y_pred)\n",
    "print(\"Confusion Matrix for Apple Watch ENMO\")\n",
    "print(cnf_matrix)"
   ]
  },
  {
   "cell_type": "code",
   "execution_count": 37,
   "id": "fac43ea4-b2d6-450d-9004-717de5d12ea2",
   "metadata": {},
   "outputs": [
    {
     "name": "stdout",
     "output_type": "stream",
     "text": [
      "Confusion Matrix for Actiwatch activity counts\n",
      "[[13292   246]\n",
      " [  282   853]]\n"
     ]
    }
   ],
   "source": [
    "cnf_matrix2 = metrics.confusion_matrix(y_test, y_pred_2)\n",
    "print(\"Confusion Matrix for Actiwatch activity counts\")\n",
    "print(cnf_matrix2)"
   ]
  },
  {
   "cell_type": "code",
   "execution_count": 38,
   "id": "a9237ea5-45d6-4ed3-850a-4ca7351a40e1",
   "metadata": {},
   "outputs": [],
   "source": [
    "def eval_model(model, X_train, Y_train, X_test, Y_test):\n",
    "    fig = plt.figure(figsize=[25, 8])\n",
    "    ax = fig.add_subplot(1, 2, 1)\n",
    "    conf = plot_confusion_matrix(model, X_train, Y_train, normalize=None, xticks_rotation='vertical', ax=ax)\n",
    "    pred = model.predict(X_train)\n",
    "    conf.ax_.set_title('Training Set Performance: ' + str(sum(pred == Y_train)/len(Y_train)));\n",
    "    ax = fig.add_subplot(1, 2, 2)\n",
    "    conf = plot_confusion_matrix(model, X_test, Y_test, normalize=None, xticks_rotation='vertical', ax=ax)\n",
    "    pred = model.predict(X_test)\n",
    "    conf.ax_.set_title('Testing Set Performance: ' + str(sum(pred == Y_test)/len(Y_test)));\n"
   ]
  },
  {
   "cell_type": "code",
   "execution_count": 39,
   "id": "77bc0d89-566e-4771-9a7d-8f1461621a9a",
   "metadata": {},
   "outputs": [
    {
     "data": {
      "image/png": "[encoded data removed]",
      "text/plain": [
       "<Figure size 1800x576 with 4 Axes>"
      ]
     },
     "metadata": {
      "needs_background": "light"
     },
     "output_type": "display_data"
    }
   ],
   "source": [
    "eval_model(logreg, x_train[['Apple_ENMO']], y_train, x_test[['Apple_ENMO']], y_test)"
   ]
  },
  {
   "cell_type": "code",
   "execution_count": 40,
   "id": "64546293-b3b4-45b1-a0eb-f3894128c890",
   "metadata": {},
   "outputs": [
    {
     "data": {
      "image/png": "[encoded data removed]",
      "text/plain": [
       "<Figure size 1800x576 with 4 Axes>"
      ]
     },
     "metadata": {
      "needs_background": "light"
     },
     "output_type": "display_data"
    }
   ],
   "source": [
    "eval_model(logreg_2, x_train[['actiwatch_counts']], y_train, x_test[['actiwatch_counts']], y_test)"
   ]
  },
  {
   "cell_type": "code",
   "execution_count": 41,
   "id": "bb2d480b-c5ee-424d-97a4-268ca47edfd2",
   "metadata": {},
   "outputs": [
    {
     "data": {
      "text/plain": [
       "Text(0.5, 1.0, 'DET Curve')"
      ]
     },
     "execution_count": 41,
     "metadata": {},
     "output_type": "execute_result"
    },
    {
     "data": {
      "image/png": "[encoded data removed]",
      "text/plain": [
       "<Figure size 1080x504 with 2 Axes>"
      ]
     },
     "metadata": {
      "needs_background": "light"
     },
     "output_type": "display_data"
    }
   ],
   "source": [
    "from sklearn.metrics import roc_curve, det_curve, roc_auc_score, auc\n",
    "\n",
    "scores = logreg.predict_proba(x_test[['Apple_ENMO']])\n",
    "\n",
    "fig = plt.figure(figsize=[15, 7])\n",
    "fpr, tpr, thresholds = roc_curve(y_test, scores[:, 1])\n",
    "auc_score = roc_auc_score(y_test, scores[:, 1])\n",
    "ax = fig.add_subplot(1, 2, 1)\n",
    "ax.plot(fpr, tpr)\n",
    "ax.set_xlabel('False Positive Rate')\n",
    "ax.set_ylabel('True Positive Rate')\n",
    "ax.set_title('ROC Curve, AUC: ' + str(auc_score))\n",
    "\n",
    "fpr, fnr, thresholds = det_curve(y_test, scores[:, 1])\n",
    "ax = fig.add_subplot(1, 2, 2)\n",
    "ax.plot(fpr, fnr)\n",
    "ax.set_xlabel('False Positive Rate')\n",
    "ax.set_ylabel('False Negative Rate')\n",
    "ax.set_title('DET Curve')"
   ]
  },
  {
   "cell_type": "code",
   "execution_count": 42,
   "id": "3d589d00-2fb7-4d34-a89a-2e1d94fb9961",
   "metadata": {},
   "outputs": [
    {
     "name": "stdout",
     "output_type": "stream",
     "text": [
      "              precision    recall  f1-score   support\n",
      "\n",
      "         0.0       0.93      1.00      0.96     13538\n",
      "         1.0       1.00      0.13      0.23      1135\n",
      "\n",
      "    accuracy                           0.93     14673\n",
      "   macro avg       0.97      0.57      0.60     14673\n",
      "weighted avg       0.94      0.93      0.91     14673\n",
      "\n"
     ]
    }
   ],
   "source": [
    "from sklearn.metrics import precision_score, recall_score, f1_score, classification_report\n",
    "print(classification_report(y_test, logreg.predict(x_test[['Apple_ENMO']])))"
   ]
  },
  {
   "cell_type": "code",
   "execution_count": 43,
   "id": "ca73450f-c884-4628-996a-234393a85246",
   "metadata": {},
   "outputs": [
    {
     "data": {
      "text/plain": [
       "0.955631887791613"
      ]
     },
     "execution_count": 43,
     "metadata": {},
     "output_type": "execute_result"
    }
   ],
   "source": [
    "# k-fold cross validation to evaluate the performance of the model\n",
    "from sklearn.linear_model import LogisticRegressionCV\n",
    "clflogreg = LogisticRegressionCV(cv=10, random_state=0).fit(x[['Apple_ENMO']],y)\n",
    "clflogreg.predict(x[['Apple_ENMO']])\n",
    "clflogreg.predict_proba(x[['Apple_ENMO']]).shape\n",
    "clflogreg.score(x[['Apple_ENMO']],y)"
   ]
  },
  {
   "cell_type": "code",
   "execution_count": 44,
   "id": "3fc922f6-906b-4eb4-8d67-64796b61a41c",
   "metadata": {},
   "outputs": [
    {
     "data": {
      "text/plain": [
       "0.955631887791613"
      ]
     },
     "execution_count": 44,
     "metadata": {},
     "output_type": "execute_result"
    }
   ],
   "source": [
    "clflogreg = LogisticRegressionCV(cv=10, random_state=0).fit(x[['Apple_ENMO']],y)\n",
    "clflogreg.predict(x[['Apple_ENMO']])\n",
    "clflogreg.predict_proba(x[['Apple_ENMO']]).shape\n",
    "clflogreg.score(x[['Apple_ENMO']],y)"
   ]
  },
  {
   "cell_type": "markdown",
   "id": "3a97c3db-a85c-444a-b878-a78a93cc61ff",
   "metadata": {},
   "source": [
    "# Neural Network"
   ]
  },
  {
   "cell_type": "code",
   "execution_count": 45,
   "id": "f2b26807-21ca-4f8f-897f-40a2fb1b98a4",
   "metadata": {},
   "outputs": [
    {
     "name": "stdout",
     "output_type": "stream",
     "text": [
      "Train accuracy: 0.9740915994859213\n",
      "Test accuracy: 0.9747154637770054\n",
      "              precision    recall  f1-score   support\n",
      "\n",
      "         0.0       0.98      1.00      0.99     13538\n",
      "         1.0       0.95      0.71      0.81      1135\n",
      "\n",
      "    accuracy                           0.97     14673\n",
      "   macro avg       0.96      0.85      0.90     14673\n",
      "weighted avg       0.97      0.97      0.97     14673\n",
      "\n",
      "MLPClassifier(random_state=200)\n"
     ]
    }
   ],
   "source": [
    "rs = 200\n",
    "model_1 = MLPClassifier(random_state=rs)\n",
    "model_1.fit(x_train, y_train)\n",
    "\n",
    "print(\"Train accuracy:\", model_1.score(x_train, y_train))\n",
    "print(\"Test accuracy:\", model_1.score(x_test, y_test))\n",
    "\n",
    "y_pred = model_1.predict(x_test)\n",
    "\n",
    "print(classification_report(y_test, y_pred))\n",
    "\n",
    "print(model_1)"
   ]
  },
  {
   "cell_type": "code",
   "execution_count": 46,
   "id": "700f1bc4-653f-4dfa-9c50-f150f66c7852",
   "metadata": {},
   "outputs": [
    {
     "name": "stdout",
     "output_type": "stream",
     "text": [
      "Train accuracy: 0.9740915994859213\n",
      "Test accuracy: 0.9747154637770054\n",
      "              precision    recall  f1-score   support\n",
      "\n",
      "         0.0       0.98      1.00      0.99     13538\n",
      "         1.0       0.95      0.71      0.81      1135\n",
      "\n",
      "    accuracy                           0.97     14673\n",
      "   macro avg       0.96      0.85      0.90     14673\n",
      "weighted avg       0.97      0.97      0.97     14673\n",
      "\n",
      "MLPClassifier(max_iter=10000, random_state=200)\n"
     ]
    }
   ],
   "source": [
    "model_2 = MLPClassifier(max_iter=10000, random_state=rs)\n",
    "model_2.fit(x_train, y_train)\n",
    "\n",
    "print(\"Train accuracy:\", model_2.score(x_train, y_train))\n",
    "print(\"Test accuracy:\", model_2.score(x_test, y_test))\n",
    "\n",
    "y_pred = model_2.predict(x_test)\n",
    "print(classification_report(y_test, y_pred))\n",
    "\n",
    "print(model_2)"
   ]
  },
  {
   "cell_type": "code",
   "execution_count": 47,
   "id": "f4e03caf-edc5-49a9-afd1-97796df09306",
   "metadata": {},
   "outputs": [
    {
     "name": "stdout",
     "output_type": "stream",
     "text": [
      "Train accuracy: 0.9591657903960743\n",
      "Test accuracy: 0.9614257479724664\n",
      "              precision    recall  f1-score   support\n",
      "\n",
      "         0.0       0.97      0.99      0.98     13538\n",
      "         1.0       0.89      0.57      0.70      1135\n",
      "\n",
      "    accuracy                           0.96     14673\n",
      "   macro avg       0.93      0.78      0.84     14673\n",
      "weighted avg       0.96      0.96      0.96     14673\n",
      "\n",
      "MLPClassifier(max_iter=10000, random_state=200)\n"
     ]
    }
   ],
   "source": [
    "model_3 = MLPClassifier(max_iter=10000, random_state=rs)\n",
    "model_3.fit(x_train[['Apple_ENMO']], y_train)\n",
    "\n",
    "print(\"Train accuracy:\", model_3.score(x_train[['Apple_ENMO']], y_train))\n",
    "print(\"Test accuracy:\", model_3.score(x_test[['Apple_ENMO']], y_test))\n",
    "\n",
    "y_pred = model_3.predict(x_test[['Apple_ENMO']])\n",
    "print(classification_report(y_test, y_pred))\n",
    "\n",
    "print(model_3)"
   ]
  },
  {
   "cell_type": "code",
   "execution_count": null,
   "id": "41e6ccd3-3839-474e-b408-b12690d70dba",
   "metadata": {},
   "outputs": [],
   "source": [
    "params = {'hidden_layer_sizes': [(x,) for x in range(5, 86, 20)]}\n",
    "\n",
    "cv_1 = GridSearchCV(param_grid=params, estimator=MLPClassifier(random_state=rs),return_train_score=True, cv=10, n_jobs=-1)\n",
    "cv_1.fit(x_train, y_train)"
   ]
  },
  {
   "cell_type": "code",
   "execution_count": null,
   "id": "3e0e4f41-ae90-4623-8630-6fdba6782b17",
   "metadata": {
    "scrolled": true,
    "tags": []
   },
   "outputs": [],
   "source": [
    "result_set = cv_1.cv_results_\n",
    "print(result_set)"
   ]
  },
  {
   "cell_type": "code",
   "execution_count": null,
   "id": "8d11836e-03c6-470b-ad24-0784a1195940",
   "metadata": {},
   "outputs": [],
   "source": [
    "train_result = result_set['split0_train_score']\n",
    "test_result = result_set['split0_test_score']\n",
    "print(\"Total number of models: \", len(test_result))\n",
    "# plot hidden layers hyperparameter values vs training and test accuracy score\n",
    "plt.plot(range(0, len(train_result)), train_result, 'b', range(0,len(test_result)), test_result, 'r')\n",
    "plt.xlabel('Hyperparameter Hidden_layers\\nBlue = training acc. Red = test acc.')\n",
    "plt.xticks(range(0, len(train_result)),range(5, 86, 20))\n",
    "plt.ylabel('score')\n",
    "plt.show()"
   ]
  },
  {
   "cell_type": "code",
   "execution_count": null,
   "id": "54716ce5-0fdc-4360-83e4-c93644d27803",
   "metadata": {
    "scrolled": true,
    "tags": []
   },
   "outputs": [],
   "source": [
    "print(\"Train accuracy:\", cv_1.score(x_train, y_train))\n",
    "print(\"Test accuracy:\", cv_1.score(x_test, y_test))\n",
    "\n",
    "y_pred = cv_1.predict(x_test)\n",
    "print(classification_report(y_test, y_pred))\n",
    "\n",
    "print(cv_1.best_params_)"
   ]
  },
  {
   "cell_type": "code",
   "execution_count": null,
   "id": "49aad151-590d-4a1e-b115-0928c72ca12e",
   "metadata": {},
   "outputs": [],
   "source": [
    "params = {'hidden_layer_sizes': [(3,), (5,), (7,), (9,)], 'alpha': [0.01,0.001, 0.0001, 0.00001]}\n",
    "\n",
    "cv_3 = GridSearchCV(param_grid=params, estimator=MLPClassifier(random_state=rs), cv=10, n_jobs=-1)\n",
    "cv_3.fit(x_train, y_train)\n",
    "\n",
    "print(\"Train accuracy:\", cv_3.score(x_train, y_train))\n",
    "print(\"Test accuracy:\", cv_3.score(x_test, y_test))\n",
    "\n",
    "y_pred = cv_3.predict(x_test)\n",
    "print(classification_report(y_test, y_pred))\n",
    "\n",
    "print(cv_3.best_params_)"
   ]
  },
  {
   "cell_type": "code",
   "execution_count": null,
   "id": "e8f4ccbb-4b73-43f8-8617-20b1ee4451d7",
   "metadata": {},
   "outputs": [],
   "source": [
    "eval_model(cv_1, x_train, y_train, x_test, y_test)"
   ]
  },
  {
   "cell_type": "code",
   "execution_count": null,
   "id": "2083f84d-4df9-46a3-9c97-7e10e09c5627",
   "metadata": {},
   "outputs": [],
   "source": [
    "eval_model(cv_3, x_train, y_train, x_test, y_test)"
   ]
  },
  {
   "cell_type": "code",
   "execution_count": null,
   "id": "4ff537ae-9a01-4368-a5d7-c8b07997d233",
   "metadata": {},
   "outputs": [],
   "source": [
    "eval_model(model_1, x_train, y_train, x_test, y_test)"
   ]
  },
  {
   "cell_type": "code",
   "execution_count": null,
   "id": "28425af7-825e-4c20-b2a2-7bc73c6137bb",
   "metadata": {},
   "outputs": [],
   "source": [
    "eval_model(model_3, x_train[['Apple_ENMO']], y_train, x_test[['Apple_ENMO']], y_test)"
   ]
  },
  {
   "cell_type": "code",
   "execution_count": null,
   "id": "b8adc194-80db-493b-96b9-06de42e527e1",
   "metadata": {},
   "outputs": [],
   "source": [
    "from sklearn.metrics import roc_curve, det_curve, roc_auc_score, auc\n",
    "\n",
    "scores = model_3.predict_proba(x_test[['Apple_ENMO']])\n",
    "\n",
    "fig = plt.figure(figsize=[15, 7])\n",
    "fpr, tpr, thresholds = roc_curve(y_test, scores[:, 1])\n",
    "auc_score = roc_auc_score(y_test, scores[:, 1])\n",
    "ax = fig.add_subplot(1, 2, 1)\n",
    "ax.plot(fpr, tpr)\n",
    "ax.set_xlabel('False Positive Rate')\n",
    "ax.set_ylabel('True Positive Rate')\n",
    "ax.set_title('ROC Curve, AUC: ' + str(auc_score))\n",
    "\n",
    "fpr, fnr, thresholds = det_curve(y_test, scores[:, 1])\n",
    "ax = fig.add_subplot(1, 2, 2)\n",
    "ax.plot(fpr, fnr)\n",
    "ax.set_xlabel('False Positive Rate')\n",
    "ax.set_ylabel('False Negative Rate')\n",
    "ax.set_title('DET Curve')"
   ]
  },
  {
   "cell_type": "markdown",
   "id": "8e9a5fec-e951-4af7-bf25-cbfeb12a2278",
   "metadata": {},
   "source": [
    "# Comparing three model"
   ]
  },
  {
   "cell_type": "code",
   "execution_count": null,
   "id": "f94879e2-efe9-4b2f-abbc-48d686459f1b",
   "metadata": {},
   "outputs": [],
   "source": [
    "# random forest\n",
    "\n",
    "# logistic regression\n",
    "\n",
    "# neural network\n",
    "rf_scores = randomforest_model.predict_proba(x_test[['Apple_ENMO']])\n",
    "lg_scores = logreg.predict_proba(x_test[['Apple_ENMO']])\n",
    "nn_scores = model_3.predict_proba(x_test[['Apple_ENMO']])\n",
    "\n",
    "print(rf_scores)\n",
    "print(lg_scores)\n",
    "print(nn_scores)\n",
    "\n",
    "fig = plt.figure(figsize=[15, 7])\n",
    "ax = fig.add_subplot(1, 2, 1)\n",
    "fpr, tpr, thresholds = roc_curve(y_test, rf_scores[:, 1])\n",
    "ax.plot(fpr, tpr)\n",
    "fpr, tpr, thresholds = roc_curve(y_test, lg_scores[:, 1])\n",
    "ax.plot(fpr, tpr)\n",
    "fpr, tpr, thresholds = roc_curve(y_test, nn_scores[:, 1])\n",
    "ax.plot(fpr, tpr)\n",
    "ax.set_xlabel('False Positive Rate')\n",
    "ax.set_ylabel('True Positive Rate')\n",
    "ax.set_title('ROC Curve')\n",
    "ax.legend(['Random Forest', 'Logistic Regression', 'Neural Network'])\n",
    "\n",
    "ax = fig.add_subplot(1, 2, 2)\n",
    "fpr, fnr, thresholds = det_curve(y_test, rf_scores[:, 1])\n",
    "ax.plot(fpr, fnr)\n",
    "fpr, fnr, thresholds = det_curve(y_test, lg_scores[:, 1])\n",
    "ax.plot(fpr, fnr)\n",
    "fpr, fnr, thresholds = det_curve(y_test, nn_scores[:, 1])\n",
    "ax.plot(fpr, fnr)\n",
    "ax.set_xlabel('False Positive Rate')\n",
    "ax.set_ylabel('False Negative Rate')\n",
    "ax.set_title('DET Curve')\n",
    "ax.legend(['Random Forest', 'Logistic Regression', 'Neural Network'])"
   ]
  },
  {
   "cell_type": "code",
   "execution_count": null,
   "id": "04dc976d-fbe2-43d8-83d7-34e32288fb93",
   "metadata": {},
   "outputs": [],
   "source": []
  }
 ],
 "metadata": {
  "kernelspec": {
   "display_name": "Python 3",
   "language": "python",
   "name": "python3"
  },
  "language_info": {
   "codemirror_mode": {
    "name": "ipython",
    "version": 3
   },
   "file_extension": ".py",
   "mimetype": "text/x-python",
   "name": "python",
   "nbconvert_exporter": "python",
   "pygments_lexer": "ipython3",
   "version": "3.8.8"
  }
 },
 "nbformat": 4,
 "nbformat_minor": 5
}
