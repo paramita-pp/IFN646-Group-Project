{
 "cells": [
  {
   "cell_type": "markdown",
   "id": "dbea9ca4-3da1-4bed-a39c-a1e840332c9a",
   "metadata": {},
   "source": [
    "<H3><u>Group Project - Wearable Devices</u></H3>\n",
    "\n",
    "<b>Tasks</b>\n",
    "A number of participants wore two devices (Actiwatch and Apple Watch) on the same arm, typically for two successive nights.<br>\n",
    "<b>Objective</b> is to try to perform sleep/wake classification for the Apple Watch, using the Actiwatch classification as the ground truth.\n",
    "\n",
    "- For the Apple Watch --> we give you an ENMO (Euclidean Norm Minus One) value to summarise 15 seconds of acceleration data. \n",
    "- For the Actiwatch --> you have access to the \"activity counts\" for the same 15-second epoch (and to the sleep/wake classification).\n",
    "\n",
    "You need to choose between two strategies:\n",
    "1) Trying to reproduce the activity counts, and then use the Philips classification algorithm.\n",
    "2) Work directly from the raw data to the classification with your own method."
   ]
  },
  {
   "cell_type": "markdown",
   "id": "5dcb409e-0148-4092-9a80-31d6b775ad1f",
   "metadata": {},
   "source": [
    "**---> <u>In strategy 1</u>** <br>\n",
    "The idea is to take the ENMO data, and try to compute an estimated activity count. Then, you simply use the same method as above."
   ]
  },
  {
   "cell_type": "markdown",
   "id": "7b5ec023-99ce-4ac1-a3f1-83b55710bae2",
   "metadata": {},
   "source": [
    "**---> <u>In strategy 2</u>** <br>\n",
    "you work directly with the ENMO, without worrying about activity counts or the Actiware method, and just try to develop your own classification method."
   ]
  },
  {
   "cell_type": "code",
   "execution_count": 1,
   "id": "17484080-1d33-4c3f-839c-cbdca5d8478f",
   "metadata": {},
   "outputs": [],
   "source": [
    "import pandas as pd\n",
    "import numpy as np\n",
    "import glob\n",
    "\n",
    "from io import StringIO\n",
    "\n",
    "from sklearn.model_selection import train_test_split\n",
    "from sklearn.metrics import classification_report, accuracy_score\n",
    "from sklearn.model_selection import GridSearchCV\n",
    "from sklearn.preprocessing import StandardScaler\n",
    "from sklearn.neural_network import MLPClassifier\n",
    "from sklearn.tree import export_graphviz\n",
    "from sklearn.metrics import plot_confusion_matrix\n",
    "\n",
    "import matplotlib.pyplot as plt\n",
    "\n",
    "#from nn_tools import data_prep"
   ]
  },
  {
   "cell_type": "code",
   "execution_count": 2,
   "id": "cb6140c9-8190-4ba8-9d53-05ad8602bde0",
   "metadata": {},
   "outputs": [],
   "source": [
    "def data_prep():\n",
    "    \n",
    "    # Loading and concating the datasets\n",
    "    path = r'IFN646_project'# file path\n",
    "    li = []\n",
    "    for filename in glob.glob(path + \"/*.csv\"):\n",
    "        dataset = pd.read_csv(filename, index_col=None, header=0)\n",
    "        li.append(dataset)\n",
    "        \n",
    "    df = pd.concat(li, axis=0, ignore_index=True)\n",
    "    \n",
    "    # Dropping the column 'timestamp'\n",
    "    df = df.drop(['timestamp'], axis=1)\n",
    "    \n",
    "    # Replacing NaN values in 'Actiwatch activity counts' with '0.0'\n",
    "    df['Actiwatch activity counts'] = df['Actiwatch activity counts'].replace(np.nan, 0.0)\n",
    "    \n",
    "    # Replacing NaN values in 'Actiware classification' with '0.0'\n",
    "    df['Actiware classification'] = df['Actiware classification'].replace(np.nan, 0.0)\n",
    "    \n",
    "    # Replacing NaN values in 'Apple Watch ENMO' with the respective mean value\n",
    "    df['Apple Watch ENMO'] = df['Apple Watch ENMO'].replace(np.nan, df['Apple Watch ENMO'].mean())\n",
    "    \n",
    "    # one-hot encoding\n",
    "    # ------ One hot encoding is a process of converting categorical data variables so they can be provided to machine learning             algorithms to improve predictions. One hot encoding is a crucial part of feature engineering for machine learning.  \n",
    "    df = pd.get_dummies(df)\n",
    "    \n",
    "    y = df['Actiware classification']\n",
    "    y = y.astype('int')\n",
    "    \n",
    "    X = df.drop(['Actiware classification'], axis=1)\n",
    "    \n",
    "    # setting random state\n",
    "    rs = 200\n",
    "\n",
    "    X_mat = X.to_numpy()\n",
    "    X_train, X_test, y_train, y_test = train_test_split(X_mat, y, test_size=0.2, random_state=rs)\n",
    "    \n",
    "    return df,X,y,X_train, X_test, y_train, y_test\n",
    "    "
   ]
  },
  {
   "cell_type": "markdown",
   "id": "09d8e4c8-4b99-4e16-abb4-d584ad8f28d1",
   "metadata": {},
   "source": [
    "In the financial and health domains, performance of a predictive model is crucial. To achieve a better performance, multiple models can be combined together to achieve a higher predictive performance than individual models. This approach is called ensemble modeling and it will be covered in the last part of this practical."
   ]
  },
  {
   "cell_type": "code",
   "execution_count": 3,
   "id": "9afd9016-df2d-4143-92d6-8ed4a9cb288e",
   "metadata": {},
   "outputs": [],
   "source": [
    "# load the data\n",
    "df,X,y,X_train, X_test, y_train, y_test = data_prep()\n",
    "\n",
    "scaler = StandardScaler()\n",
    "X_train = scaler.fit_transform(X_train, y_train)\n",
    "X_test = scaler.transform(X_test)\n"
   ]
  },
  {
   "cell_type": "code",
   "execution_count": 4,
   "id": "b4688e21-b495-44a3-b055-6c7bc439c759",
   "metadata": {},
   "outputs": [],
   "source": [
    "rs = 200"
   ]
  },
  {
   "cell_type": "code",
   "execution_count": 5,
   "id": "33738582-9f75-428a-9260-1046ba58f4bf",
   "metadata": {},
   "outputs": [
    {
     "data": {
      "text/plain": [
       "0.0    45416\n",
       "1.0     3896\n",
       "Name: Actiware classification, dtype: int64"
      ]
     },
     "execution_count": 5,
     "metadata": {},
     "output_type": "execute_result"
    }
   ],
   "source": [
    "df['Actiware classification'].value_counts()"
   ]
  },
  {
   "cell_type": "code",
   "execution_count": 6,
   "id": "969ced07-f12c-45ce-ae15-19233703cb7d",
   "metadata": {},
   "outputs": [
    {
     "name": "stdout",
     "output_type": "stream",
     "text": [
      "Train accuracy: 0.9720651981038809\n",
      "Test accuracy: 0.9707999594443881\n",
      "              precision    recall  f1-score   support\n",
      "\n",
      "           0       0.98      0.99      0.98      9096\n",
      "           1       0.90      0.70      0.79       767\n",
      "\n",
      "    accuracy                           0.97      9863\n",
      "   macro avg       0.94      0.85      0.89      9863\n",
      "weighted avg       0.97      0.97      0.97      9863\n",
      "\n",
      "MLPClassifier(random_state=200)\n"
     ]
    }
   ],
   "source": [
    "model_1 = MLPClassifier(random_state=rs)\n",
    "model_1.fit(X_train, y_train)\n",
    "\n",
    "print(\"Train accuracy:\", model_1.score(X_train, y_train))\n",
    "print(\"Test accuracy:\", model_1.score(X_test, y_test))\n",
    "\n",
    "y_pred = model_1.predict(X_test)\n",
    "\n",
    "print(classification_report(y_test, y_pred))\n",
    "\n",
    "print(model_1)"
   ]
  },
  {
   "cell_type": "code",
   "execution_count": 7,
   "id": "538823b3-3530-4639-91b4-d56823671911",
   "metadata": {},
   "outputs": [
    {
     "name": "stdout",
     "output_type": "stream",
     "text": [
      "Train accuracy: 0.9720651981038809\n",
      "Test accuracy: 0.9707999594443881\n",
      "              precision    recall  f1-score   support\n",
      "\n",
      "           0       0.98      0.99      0.98      9096\n",
      "           1       0.90      0.70      0.79       767\n",
      "\n",
      "    accuracy                           0.97      9863\n",
      "   macro avg       0.94      0.85      0.89      9863\n",
      "weighted avg       0.97      0.97      0.97      9863\n",
      "\n",
      "MLPClassifier(max_iter=10000, random_state=200)\n"
     ]
    }
   ],
   "source": [
    "model_2 = MLPClassifier(max_iter=10000, random_state=rs)\n",
    "model_2.fit(X_train, y_train)\n",
    "\n",
    "print(\"Train accuracy:\", model_2.score(X_train, y_train))\n",
    "print(\"Test accuracy:\", model_2.score(X_test, y_test))\n",
    "\n",
    "y_pred = model_2.predict(X_test)\n",
    "print(classification_report(y_test, y_pred))\n",
    "\n",
    "print(model_2)"
   ]
  },
  {
   "cell_type": "code",
   "execution_count": 8,
   "id": "c3b1ff5f-4c77-4520-9eec-9c9a476ffdce",
   "metadata": {},
   "outputs": [
    {
     "name": "stdout",
     "output_type": "stream",
     "text": [
      "(39449, 2)\n"
     ]
    }
   ],
   "source": [
    "print(X_train.shape)"
   ]
  },
  {
   "cell_type": "code",
   "execution_count": 9,
   "id": "c39f59ae-67fc-40cb-9960-59603eadc14b",
   "metadata": {},
   "outputs": [
    {
     "data": {
      "text/plain": [
       "GridSearchCV(cv=10, estimator=MLPClassifier(random_state=200), n_jobs=-1,\n",
       "             param_grid={'hidden_layer_sizes': [(5,), (25,), (45,), (65,),\n",
       "                                                (85,)]},\n",
       "             return_train_score=True)"
      ]
     },
     "execution_count": 9,
     "metadata": {},
     "output_type": "execute_result"
    }
   ],
   "source": [
    "params = {'hidden_layer_sizes': [(x,) for x in range(5, 86, 20)]}\n",
    "\n",
    "cv_1 = GridSearchCV(param_grid=params, estimator=MLPClassifier(random_state=rs),return_train_score=True, cv=10, n_jobs=-1)\n",
    "cv_1.fit(X_train, y_train)"
   ]
  },
  {
   "cell_type": "code",
   "execution_count": 10,
   "id": "5794266c-c71e-4825-a318-500b823f817b",
   "metadata": {
    "scrolled": true,
    "tags": []
   },
   "outputs": [
    {
     "name": "stdout",
     "output_type": "stream",
     "text": [
      "{'mean_fit_time': array([7.55061498, 5.92099657, 6.24120421, 6.3830934 , 6.39776096]), 'std_fit_time': array([0.4864104 , 0.80038128, 0.70843131, 1.09450308, 1.21590236]), 'mean_score_time': array([0.00327356, 0.00239275, 0.00309186, 0.00463285, 0.00373676]), 'std_score_time': array([0.00320673, 0.00120033, 0.00132867, 0.00214552, 0.00155648]), 'param_hidden_layer_sizes': masked_array(data=[(5,), (25,), (45,), (65,), (85,)],\n",
      "             mask=[False, False, False, False, False],\n",
      "       fill_value='?',\n",
      "            dtype=object), 'params': [{'hidden_layer_sizes': (5,)}, {'hidden_layer_sizes': (25,)}, {'hidden_layer_sizes': (45,)}, {'hidden_layer_sizes': (65,)}, {'hidden_layer_sizes': (85,)}], 'split0_test_score': array([0.97135615, 0.97363752, 0.97313054, 0.97338403, 0.97313054]), 'split1_test_score': array([0.96831432, 0.96907478, 0.96932826, 0.96882129, 0.96882129]), 'split2_test_score': array([0.97591888, 0.97591888, 0.97617237, 0.9756654 , 0.97541191]), 'split3_test_score': array([0.96932826, 0.97287706, 0.97313054, 0.97338403, 0.97262357]), 'split4_test_score': array([0.97160963, 0.97262357, 0.97287706, 0.97262357, 0.97262357]), 'split5_test_score': array([0.97008872, 0.97110266, 0.97110266, 0.97084918, 0.97160963]), 'split6_test_score': array([0.9756654 , 0.97642586, 0.97667934, 0.97642586, 0.97642586]), 'split7_test_score': array([0.96755387, 0.96780735, 0.96780735, 0.96780735, 0.96755387]), 'split8_test_score': array([0.97008872, 0.97135615, 0.97084918, 0.97110266, 0.97084918]), 'split9_test_score': array([0.96932049, 0.96957404, 0.96982759, 0.96982759, 0.96982759]), 'mean_test_score': array([0.97092444, 0.97203979, 0.97209049, 0.9719891 , 0.9718877 ]), 'std_test_score': array([0.00269755, 0.00268347, 0.00272239, 0.00267906, 0.00263111]), 'rank_test_score': array([5, 2, 1, 3, 4], dtype=int32), 'split0_train_score': array([0.97090469, 0.97191866, 0.97200315, 0.97189049, 0.97189049]), 'split1_train_score': array([0.97143984, 0.97231298, 0.97251014, 0.97220032, 0.97214398]), 'split2_train_score': array([0.97152434, 0.971637  , 0.9717215 , 0.97166516, 0.97160883]), 'split3_train_score': array([0.97132717, 0.97186233, 0.97194682, 0.97194682, 0.97203132]), 'split4_train_score': array([0.97107368, 0.97200315, 0.97191866, 0.97177783, 0.97205949]), 'split5_train_score': array([0.97138351, 0.97214398, 0.97222848, 0.97211582, 0.97205949]), 'split6_train_score': array([0.97073569, 0.97149617, 0.97098918, 0.97152434, 0.97149617]), 'split7_train_score': array([0.97160883, 0.97253831, 0.97265097, 0.97251014, 0.97267913]), 'split8_train_score': array([0.97129901, 0.97203132, 0.97222848, 0.97217215, 0.97234114]), 'split9_train_score': array([0.97101817, 0.9722011 , 0.97234192, 0.97231376, 0.97228559]), 'mean_train_score': array([0.97123149, 0.9720145 , 0.97205393, 0.97201168, 0.97205956]), 'std_train_score': array([0.00027044, 0.00029308, 0.00044553, 0.00029035, 0.00032731])}\n"
     ]
    }
   ],
   "source": [
    "result_set = cv_1.cv_results_\n",
    "print(result_set)"
   ]
  },
  {
   "cell_type": "code",
   "execution_count": 11,
   "id": "c499e9ba-0574-4cbf-a0ff-4466dc7fef6d",
   "metadata": {},
   "outputs": [
    {
     "name": "stdout",
     "output_type": "stream",
     "text": [
      "Total number of models:  5\n"
     ]
    },
    {
     "data": {
      "image/png": "[encoded data removed]",
      "text/plain": [
       "<Figure size 432x288 with 1 Axes>"
      ]
     },
     "metadata": {
      "needs_background": "light"
     },
     "output_type": "display_data"
    }
   ],
   "source": [
    "train_result = result_set['split0_train_score']\n",
    "test_result = result_set['split0_test_score']\n",
    "print(\"Total number of models: \", len(test_result))\n",
    "# plot hidden layers hyperparameter values vs training and test accuracy score\n",
    "plt.plot(range(0, len(train_result)), train_result, 'b', range(0,len(test_result)), test_result, 'r')\n",
    "plt.xlabel('Hyperparameter Hidden_layers\\nBlue = training acc. Red = test acc.')\n",
    "plt.xticks(range(0, len(train_result)),range(5, 86, 20))\n",
    "plt.ylabel('score')\n",
    "plt.show()"
   ]
  },
  {
   "cell_type": "code",
   "execution_count": 12,
   "id": "9df77b92-a598-48c2-aba1-d165c9110042",
   "metadata": {
    "scrolled": true,
    "tags": []
   },
   "outputs": [
    {
     "name": "stdout",
     "output_type": "stream",
     "text": [
      "Train accuracy: 0.9720905472889046\n",
      "Test accuracy: 0.9706985704146811\n",
      "              precision    recall  f1-score   support\n",
      "\n",
      "           0       0.97      0.99      0.98      9096\n",
      "           1       0.91      0.69      0.79       767\n",
      "\n",
      "    accuracy                           0.97      9863\n",
      "   macro avg       0.94      0.84      0.89      9863\n",
      "weighted avg       0.97      0.97      0.97      9863\n",
      "\n",
      "{'hidden_layer_sizes': (45,)}\n"
     ]
    }
   ],
   "source": [
    "print(\"Train accuracy:\", cv_1.score(X_train, y_train))\n",
    "print(\"Test accuracy:\", cv_1.score(X_test, y_test))\n",
    "\n",
    "y_pred = cv_1.predict(X_test)\n",
    "print(classification_report(y_test, y_pred))\n",
    "\n",
    "print(cv_1.best_params_)"
   ]
  },
  {
   "cell_type": "code",
   "execution_count": null,
   "id": "caaad5ec-818e-422c-bc6f-00ab24fe647c",
   "metadata": {},
   "outputs": [],
   "source": [
    "params = {'hidden_layer_sizes': [(3,), (5,), (7,), (9,)], 'alpha': [0.01,0.001, 0.0001, 0.00001]}\n",
    "\n",
    "cv_3 = GridSearchCV(param_grid=params, estimator=MLPClassifier(random_state=rs), cv=10, n_jobs=-1)\n",
    "cv_3.fit(X_train, y_train)\n",
    "\n",
    "print(\"Train accuracy:\", cv_3.score(X_train, y_train))\n",
    "print(\"Test accuracy:\", cv_3.score(X_test, y_test))\n",
    "\n",
    "y_pred = cv_3.predict(X_test)\n",
    "print(classification_report(y_test, y_pred))\n",
    "\n",
    "print(cv_3.best_params_)"
   ]
  },
  {
   "cell_type": "code",
   "execution_count": null,
   "id": "f9e974d1-4546-4ca3-b05d-4df0c8057391",
   "metadata": {},
   "outputs": [],
   "source": [
    "def eval_model(model, X_train, Y_train, X_test, Y_test):\n",
    "    fig = plt.figure(figsize=[25, 8])\n",
    "    ax = fig.add_subplot(1, 2, 1)\n",
    "    conf = plot_confusion_matrix(model, X_train, Y_train, normalize=None, xticks_rotation='vertical', ax=ax)\n",
    "    pred = model.predict(X_train)\n",
    "    conf.ax_.set_title('Training Set Performance: ' + str(sum(pred == Y_train)/len(Y_train)));\n",
    "    ax = fig.add_subplot(1, 2, 2)\n",
    "    conf = plot_confusion_matrix(model, X_test, Y_test, normalize=None, xticks_rotation='vertical', ax=ax)\n",
    "    pred = model.predict(X_test)\n",
    "    conf.ax_.set_title('Testing Set Performance: ' + str(sum(pred == Y_test)/len(Y_test)));"
   ]
  },
  {
   "cell_type": "code",
   "execution_count": null,
   "id": "6fa5051f-2404-45e6-bd56-937f73c333e9",
   "metadata": {},
   "outputs": [],
   "source": [
    "eval_model(cv_1, X_train, y_train, X_test, y_test)"
   ]
  },
  {
   "cell_type": "code",
   "execution_count": null,
   "id": "60947b78-21ff-4bca-983d-ca03d34b784d",
   "metadata": {},
   "outputs": [],
   "source": [
    "eval_model(cv_3, X_train, y_train, X_test, y_test)"
   ]
  },
  {
   "cell_type": "code",
   "execution_count": null,
   "id": "a2c0027a-2046-4b6c-b3d9-0dcfc712bf8c",
   "metadata": {},
   "outputs": [],
   "source": []
  }
 ],
 "metadata": {
  "kernelspec": {
   "display_name": "Python 3",
   "language": "python",
   "name": "python3"
  },
  "language_info": {
   "codemirror_mode": {
    "name": "ipython",
    "version": 3
   },
   "file_extension": ".py",
   "mimetype": "text/x-python",
   "name": "python",
   "nbconvert_exporter": "python",
   "pygments_lexer": "ipython3",
   "version": "3.8.8"
  }
 },
 "nbformat": 4,
 "nbformat_minor": 5
}
